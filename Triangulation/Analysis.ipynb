{
 "cells": [
  {
   "cell_type": "code",
   "execution_count": 24,
   "id": "470d190b",
   "metadata": {},
   "outputs": [],
   "source": [
    "import numpy as np\n",
    "import matplotlib.pyplot as plt "
   ]
  },
  {
   "cell_type": "code",
   "execution_count": 46,
   "id": "e3134e56",
   "metadata": {
    "scrolled": true
   },
   "outputs": [],
   "source": [
    "def calculate_cos_angle(a, b, c):\n",
    "    numerator = a**2 - b**2 - c**2\n",
    "    denominator = -2 * b* c\n",
    "    print(numerator, denominator)\n",
    "    return np.degrees(np.arccos(numerator / denominator))"
   ]
  },
  {
   "cell_type": "code",
   "execution_count": 41,
   "id": "078757a8",
   "metadata": {},
   "outputs": [],
   "source": [
    "def calculate_right_side_angle(r, mr, d, sensor_angle):\n",
    "    alpha = calculate_cos_angle(r, mr, d)\n",
    "    return sensor_angle - alpha"
   ]
  },
  {
   "cell_type": "code",
   "execution_count": 47,
   "id": "ca42b4ef",
   "metadata": {
    "scrolled": true
   },
   "outputs": [
    {
     "name": "stdout",
     "output_type": "stream",
     "text": [
      "23808.75 -126.0\n",
      "nan\n"
     ]
    },
    {
     "name": "stderr",
     "output_type": "stream",
     "text": [
      "/tmp/ipykernel_67747/606633759.py:5: RuntimeWarning: invalid value encountered in arccos\n",
      "  return np.degrees(np.arccos(numerator / denominator))\n"
     ]
    }
   ],
   "source": [
    "mr = 14 \n",
    "r = 155\n",
    "d = 4.5\n",
    "sensor_angle = 30 \n",
    "print(calculate_right_side_anlge(r, mr, d, sensor_angle))"
   ]
  }
 ],
 "metadata": {
  "kernelspec": {
   "display_name": "Python 3 (ipykernel)",
   "language": "python",
   "name": "python3"
  },
  "language_info": {
   "codemirror_mode": {
    "name": "ipython",
    "version": 3
   },
   "file_extension": ".py",
   "mimetype": "text/x-python",
   "name": "python",
   "nbconvert_exporter": "python",
   "pygments_lexer": "ipython3",
   "version": "3.10.12"
  }
 },
 "nbformat": 4,
 "nbformat_minor": 5
}
